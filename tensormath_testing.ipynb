{
 "cells": [
  {
   "cell_type": "code",
   "execution_count": 87,
   "metadata": {
    "collapsed": false
   },
   "outputs": [
    {
     "name": "stdout",
     "output_type": "stream",
     "text": [
      "The autoreload extension is already loaded. To reload it, use:\n",
      "  %reload_ext autoreload\n"
     ]
    }
   ],
   "source": [
    "%load_ext autoreload\n",
    "%autoreload 2\n",
    "\n",
    "import tensormath as tm\n",
    "import numba\n",
    "import numpy as np\n",
    "from numba import jit"
   ]
  },
  {
   "cell_type": "markdown",
   "metadata": {},
   "source": [
    "Check the conversion subroutines for stress and strain"
   ]
  },
  {
   "cell_type": "code",
   "execution_count": 88,
   "metadata": {
    "collapsed": false
   },
   "outputs": [
    {
     "name": "stdout",
     "output_type": "stream",
     "text": [
      "[[  1.00000000e+03   5.00000000e-01   1.00000000e+00]\n",
      " [  5.00000000e-01  -2.00000000e+02   1.50000000e+00]\n",
      " [  1.00000000e+00   1.50000000e+00  -2.00000000e+02]]\n"
     ]
    }
   ],
   "source": [
    "stress = np.array([ 1000., -200., -200., 1., 2., 3.])\n",
    "\n",
    "new_stress = tm.convert_stress(stress)\n",
    "print new_stress"
   ]
  },
  {
   "cell_type": "markdown",
   "metadata": {},
   "source": [
    "Convert stress forward and back"
   ]
  },
  {
   "cell_type": "code",
   "execution_count": 93,
   "metadata": {
    "collapsed": false
   },
   "outputs": [
    {
     "data": {
      "text/plain": [
       "array([[ 1000.],\n",
       "       [ -200.],\n",
       "       [ -200.],\n",
       "       [    1.],\n",
       "       [    2.],\n",
       "       [    3.]])"
      ]
     },
     "execution_count": 93,
     "metadata": {},
     "output_type": "execute_result"
    }
   ],
   "source": [
    "stress1 = tm.convert_stress(tm.convert_stress(stress))\n",
    "stress1"
   ]
  },
  {
   "cell_type": "code",
   "execution_count": 94,
   "metadata": {
    "collapsed": false
   },
   "outputs": [
    {
     "name": "stdout",
     "output_type": "stream",
     "text": [
      "[[ 1.   2.   2.5]\n",
      " [ 2.   2.   3. ]\n",
      " [ 2.5  3.   3. ]]\n",
      "[[ 1.]\n",
      " [ 2.]\n",
      " [ 3.]\n",
      " [ 4.]\n",
      " [ 5.]\n",
      " [ 6.]]\n"
     ]
    }
   ],
   "source": [
    "strain = [ 1., 2., 3., 4., 5., 6.]\n",
    "\n",
    "strain1 = tm.convert_strain(strain)\n",
    "print strain1\n",
    "\n",
    "strain2 = tm.convert_strain(strain1)\n",
    "print strain2"
   ]
  },
  {
   "cell_type": "markdown",
   "metadata": {},
   "source": [
    "Test the rotation subroutines for second order tensors (CTE)"
   ]
  },
  {
   "cell_type": "code",
   "execution_count": 95,
   "metadata": {
    "collapsed": false
   },
   "outputs": [
    {
     "name": "stdout",
     "output_type": "stream",
     "text": [
      "[[ 1.4        -0.5        -0.07071068]\n",
      " [-0.5         1.6         0.35355339]\n",
      " [-0.07071068  0.35355339  3.        ]]\n",
      "[[ 2.  -0.1 -0.3]\n",
      " [-0.1  1.   0.2]\n",
      " [-0.3  0.2  3. ]]\n",
      "[[ 1.6         0.5        -0.35355339]\n",
      " [ 0.5         1.4        -0.07071068]\n",
      " [-0.35355339 -0.07071068  3.        ]]\n",
      "[[ 1.   0.1 -0.2]\n",
      " [ 0.1  2.  -0.3]\n",
      " [-0.2 -0.3  3. ]]\n",
      "[[ 1.4        -0.5         0.07071068]\n",
      " [-0.5         1.6        -0.35355339]\n",
      " [ 0.07071068 -0.35355339  3.        ]]\n",
      "[[ 2.  -0.1  0.3]\n",
      " [-0.1  1.  -0.2]\n",
      " [ 0.3 -0.2  3. ]]\n",
      "[[ 1.6         0.5         0.35355339]\n",
      " [ 0.5         1.4         0.07071068]\n",
      " [ 0.35355339  0.07071068  3.        ]]\n",
      "[[ 1.   0.1  0.2]\n",
      " [ 0.1  2.   0.3]\n",
      " [ 0.2  0.3  3. ]]\n"
     ]
    }
   ],
   "source": [
    "CTE = np.array([ [ 1., 0.1, 0.2], [0.1, 2., 0.3], [0.2, 0.3, 3.]])\n",
    "A = tm.compute_transformation_matrix(45.)\n",
    "\n",
    "for i in range(8):\n",
    "    CTE = tm.rotate_thermal_expansion(A, CTE)\n",
    "    print CTE"
   ]
  },
  {
   "cell_type": "code",
   "execution_count": 102,
   "metadata": {
    "collapsed": false
   },
   "outputs": [
    {
     "name": "stdout",
     "output_type": "stream",
     "text": [
      "[ 399.          401.         -200.          600.           -0.70710678\n",
      "    3.53553391]\n",
      "[ -2.00000000e+02   1.00000000e+03  -2.00000000e+02  -1.00000000e+00\n",
      "  -3.00000000e+00   2.00000000e+00]\n",
      "[ 401.          399.         -200.         -600.           -3.53553391\n",
      "   -0.70710678]\n",
      "[  1.00000000e+03  -2.00000000e+02  -2.00000000e+02   1.00000000e+00\n",
      "  -2.00000000e+00  -3.00000000e+00]\n",
      "[ 399.          401.         -200.          600.            0.70710678\n",
      "   -3.53553391]\n",
      "[ -2.00000000e+02   1.00000000e+03  -2.00000000e+02  -1.00000000e+00\n",
      "   3.00000000e+00  -2.00000000e+00]\n",
      "[ 401.          399.         -200.         -600.            3.53553391\n",
      "    0.70710678]\n",
      "[  1.00000000e+03  -2.00000000e+02  -2.00000000e+02   1.00000000e+00\n",
      "   2.00000000e+00   3.00000000e+00]\n"
     ]
    }
   ],
   "source": [
    "# Check the rotation of stress vectors\n",
    "stress = np.array([ 1000., -200., -200., 1., 2., 3.])\n",
    "A = tm.compute_transformation_matrix(45.)\n",
    "\n",
    "for i in range(8):\n",
    "    stress = tm.rotate_stress(A, stress)\n",
    "    print stress.reshape(-1)"
   ]
  },
  {
   "cell_type": "code",
   "execution_count": 103,
   "metadata": {
    "collapsed": false
   },
   "outputs": [
    {
     "name": "stdout",
     "output_type": "stream",
     "text": [
      "[[ 399.          600.           -0.70710678]\n",
      " [ 600.          401.            3.53553391]\n",
      " [  -0.70710678    3.53553391 -200.        ]]\n",
      "[[ -2.00000000e+02  -1.00000000e+00  -3.00000000e+00]\n",
      " [ -1.00000000e+00   1.00000000e+03   2.00000000e+00]\n",
      " [ -3.00000000e+00   2.00000000e+00  -2.00000000e+02]]\n",
      "[[ 401.         -600.           -3.53553391]\n",
      " [-600.          399.           -0.70710678]\n",
      " [  -3.53553391   -0.70710678 -200.        ]]\n",
      "[[  1.00000000e+03   1.00000000e+00  -2.00000000e+00]\n",
      " [  1.00000000e+00  -2.00000000e+02  -3.00000000e+00]\n",
      " [ -2.00000000e+00  -3.00000000e+00  -2.00000000e+02]]\n",
      "[[ 399.          600.            0.70710678]\n",
      " [ 600.          401.           -3.53553391]\n",
      " [   0.70710678   -3.53553391 -200.        ]]\n",
      "[[ -2.00000000e+02  -1.00000000e+00   3.00000000e+00]\n",
      " [ -1.00000000e+00   1.00000000e+03  -2.00000000e+00]\n",
      " [  3.00000000e+00  -2.00000000e+00  -2.00000000e+02]]\n",
      "[[ 401.         -600.            3.53553391]\n",
      " [-600.          399.            0.70710678]\n",
      " [   3.53553391    0.70710678 -200.        ]]\n",
      "[[  1.00000000e+03   1.00000000e+00   2.00000000e+00]\n",
      " [  1.00000000e+00  -2.00000000e+02   3.00000000e+00]\n",
      " [  2.00000000e+00   3.00000000e+00  -2.00000000e+02]]\n"
     ]
    }
   ],
   "source": [
    "# Check the rotation of stress matrices\n",
    "stress = tm.convert_stress(np.array([ 1000., -200., -200., 1., 2., 3.]))\n",
    "A = tm.compute_transformation_matrix(45.)\n",
    "\n",
    "for i in range(8):\n",
    "    stress = tm.rotate_stress(A, stress)\n",
    "    print stress"
   ]
  },
  {
   "cell_type": "code",
   "execution_count": 104,
   "metadata": {
    "collapsed": false
   },
   "outputs": [
    {
     "name": "stdout",
     "output_type": "stream",
     "text": [
      "[-0.5         3.5         3.         -1.         -0.70710678  7.77817459]\n",
      "[ 2.  1.  3. -4. -6.  5.]\n",
      "[ 3.5        -0.5         3.          1.         -7.77817459 -0.70710678]\n",
      "[ 1.  2.  3.  4. -5. -6.]\n",
      "[-0.5         3.5         3.         -1.          0.70710678 -7.77817459]\n",
      "[ 2.  1.  3. -4.  6. -5.]\n",
      "[ 3.5        -0.5         3.          1.          7.77817459  0.70710678]\n",
      "[ 1.  2.  3.  4.  5.  6.]\n"
     ]
    }
   ],
   "source": [
    "# Check the rotation of strain vectors\n",
    "strain = np.array([ 1., 2., 3., 4., 5., 6.])\n",
    "A = tm.compute_transformation_matrix(45.)\n",
    "\n",
    "for i in range(8):\n",
    "    strain = tm.rotate_strain(A, strain)\n",
    "    print strain.reshape(-1)"
   ]
  },
  {
   "cell_type": "code",
   "execution_count": 105,
   "metadata": {
    "collapsed": false
   },
   "outputs": [
    {
     "name": "stdout",
     "output_type": "stream",
     "text": [
      "[[-0.5        -0.5        -0.35355339]\n",
      " [-0.5         3.5         3.8890873 ]\n",
      " [-0.35355339  3.8890873   3.        ]]\n",
      "[[ 2.  -2.  -3. ]\n",
      " [-2.   1.   2.5]\n",
      " [-3.   2.5  3. ]]\n",
      "[[ 3.5         0.5        -3.8890873 ]\n",
      " [ 0.5        -0.5        -0.35355339]\n",
      " [-3.8890873  -0.35355339  3.        ]]\n",
      "[[ 1.   2.  -2.5]\n",
      " [ 2.   2.  -3. ]\n",
      " [-2.5 -3.   3. ]]\n",
      "[[-0.5        -0.5         0.35355339]\n",
      " [-0.5         3.5        -3.8890873 ]\n",
      " [ 0.35355339 -3.8890873   3.        ]]\n",
      "[[ 2.  -2.   3. ]\n",
      " [-2.   1.  -2.5]\n",
      " [ 3.  -2.5  3. ]]\n",
      "[[ 3.5         0.5         3.8890873 ]\n",
      " [ 0.5        -0.5         0.35355339]\n",
      " [ 3.8890873   0.35355339  3.        ]]\n",
      "[[ 1.   2.   2.5]\n",
      " [ 2.   2.   3. ]\n",
      " [ 2.5  3.   3. ]]\n"
     ]
    }
   ],
   "source": [
    "# Check the rotation of strain matrices\n",
    "strain = tm.convert_strain(np.array([ 1., 2., 3., 4., 5., 6.]))\n",
    "A = tm.compute_transformation_matrix(45.)\n",
    "\n",
    "for i in range(8):\n",
    "    strain = tm.rotate_strain(A, strain)\n",
    "    print strain"
   ]
  },
  {
   "cell_type": "code",
   "execution_count": 168,
   "metadata": {
    "collapsed": false
   },
   "outputs": [
    {
     "name": "stdout",
     "output_type": "stream",
     "text": [
      " 8.347e+04 2.493e+04 2.493e+04 0.000e+00 0.000e+00 0.000e+00\n",
      " 2.493e+04 8.347e+04 2.493e+04 0.000e+00 0.000e+00 0.000e+00\n",
      " 2.493e+04 2.493e+04 8.347e+04 0.000e+00 0.000e+00 0.000e+00\n",
      " 0.000e+00 0.000e+00 0.000e+00 2.927e+04 0.000e+00 0.000e+00\n",
      " 0.000e+00 0.000e+00 0.000e+00 0.000e+00 2.927e+04 0.000e+00\n",
      " 0.000e+00 0.000e+00 0.000e+00 0.000e+00 0.000e+00 2.927e+04\n",
      "\n"
     ]
    }
   ],
   "source": [
    "# Create an isotropic stiffness tensor and apply rotation\n",
    "import laminate_analysis as la\n",
    "mat = la.Material([72000., 0.23], symmetry_type='isotropic')\n",
    "L = mat.stiffness_tensor\n",
    "tm.print_n_by_n(L)"
   ]
  },
  {
   "cell_type": "code",
   "execution_count": 169,
   "metadata": {
    "collapsed": false
   },
   "outputs": [],
   "source": [
    "Lrot = tm.rotate_stiffness(A, L)\n",
    "np.testing.assert_array_almost_equal(L, Lrot)"
   ]
  },
  {
   "cell_type": "code",
   "execution_count": 170,
   "metadata": {
    "collapsed": false
   },
   "outputs": [],
   "source": [
    "Lrot = tm._rotate_fourth_order(A, L)\n",
    "np.testing.assert_array_almost_equal(L, Lrot)"
   ]
  },
  {
   "cell_type": "code",
   "execution_count": null,
   "metadata": {
    "collapsed": true
   },
   "outputs": [],
   "source": []
  },
  {
   "cell_type": "code",
   "execution_count": null,
   "metadata": {
    "collapsed": true
   },
   "outputs": [],
   "source": []
  },
  {
   "cell_type": "code",
   "execution_count": 191,
   "metadata": {
    "collapsed": true
   },
   "outputs": [],
   "source": [
    "# create and rotate a transversely isotropic stiffness tensor"
   ]
  },
  {
   "cell_type": "code",
   "execution_count": 192,
   "metadata": {
    "collapsed": false
   },
   "outputs": [
    {
     "name": "stdout",
     "output_type": "stream",
     "text": [
      " 7.367e+04 2.791e+03 2.791e+03 0.000e+00 0.000e+00 0.000e+00\n",
      " 2.791e+03 7.497e+03 1.806e+03 0.000e+00 0.000e+00 0.000e+00\n",
      " 2.791e+03 1.806e+03 7.497e+03 0.000e+00 0.000e+00 0.000e+00\n",
      " 0.000e+00 0.000e+00 0.000e+00 3.000e+03 0.000e+00 0.000e+00\n",
      " 0.000e+00 0.000e+00 0.000e+00 0.000e+00 3.000e+03 0.000e+00\n",
      " 0.000e+00 0.000e+00 0.000e+00 0.000e+00 0.000e+00 2.846e+03\n",
      "\n"
     ]
    }
   ],
   "source": [
    "mat = la.Material([72000., 7000., 0.3, 0.23, 3000.], symmetry_type='transverse')\n",
    "L = mat.stiffness_tensor\n",
    "tm.print_n_by_n(L)"
   ]
  },
  {
   "cell_type": "code",
   "execution_count": 193,
   "metadata": {
    "collapsed": false
   },
   "outputs": [
    {
     "name": "stdout",
     "output_type": "stream",
     "text": [
      " 7.367e+04 2.791e+03 2.791e+03-2.638e-11 0.000e+00 0.000e+00\n",
      " 2.791e+03 7.497e+03 1.806e+03 3.638e-12 0.000e+00 0.000e+00\n",
      " 2.791e+03 1.806e+03 7.497e+03 0.000e+00 0.000e+00 0.000e+00\n",
      "-2.638e-11 3.638e-12 0.000e+00 3.000e+03 0.000e+00 0.000e+00\n",
      " 0.000e+00 0.000e+00 0.000e+00 0.000e+00 3.000e+03-2.274e-13\n",
      " 0.000e+00 0.000e+00 0.000e+00 0.000e+00-2.274e-13 2.846e+03\n",
      "\n"
     ]
    }
   ],
   "source": [
    "Lrot = tm.rotate_stiffness(A, L)\n",
    "for i in range(3):\n",
    "    Lrot = tm.rotate_stiffness(A, Lrot)\n",
    "tm.print_n_by_n(Lrot)"
   ]
  },
  {
   "cell_type": "code",
   "execution_count": 194,
   "metadata": {
    "collapsed": true
   },
   "outputs": [],
   "source": [
    "np.testing.assert_almost_equal(L, Lrot)"
   ]
  },
  {
   "cell_type": "code",
   "execution_count": 195,
   "metadata": {
    "collapsed": false,
    "scrolled": true
   },
   "outputs": [
    {
     "name": "stdout",
     "output_type": "stream",
     "text": [
      " 7.367e+04 2.791e+03 2.791e+03 0.000e+00 0.000e+00 0.000e+00\n",
      " 2.791e+03 7.497e+03 1.806e+03 0.000e+00 0.000e+00 0.000e+00\n",
      " 2.791e+03 1.806e+03 7.497e+03 0.000e+00 0.000e+00 0.000e+00\n",
      " 0.000e+00 0.000e+00 0.000e+00 3.000e+03 0.000e+00 0.000e+00\n",
      " 0.000e+00 0.000e+00 0.000e+00 0.000e+00 3.000e+03 0.000e+00\n",
      " 0.000e+00 0.000e+00 0.000e+00 0.000e+00 0.000e+00 2.846e+03\n",
      "\n",
      " 7.367e+04 2.791e+03 2.791e+03-2.638e-11 0.000e+00 0.000e+00\n",
      " 2.791e+03 7.497e+03 1.806e+03 3.638e-12 0.000e+00 0.000e+00\n",
      " 2.791e+03 1.806e+03 7.497e+03 0.000e+00 0.000e+00 0.000e+00\n",
      "-2.638e-11 3.638e-12 0.000e+00 3.000e+03 0.000e+00 0.000e+00\n",
      " 0.000e+00 0.000e+00 0.000e+00 0.000e+00 3.000e+03-2.274e-13\n",
      " 0.000e+00 0.000e+00 0.000e+00 0.000e+00-2.274e-13 2.846e+03\n",
      "\n"
     ]
    }
   ],
   "source": [
    "mat = la.Material([72000., 7000., 0.3, 0.23, 3000.], symmetry_type='transverse')\n",
    "L = mat.stiffness_tensor\n",
    "tm.print_n_by_n(L)\n",
    "Lrot = tm._rotate_fourth_order(A, L)\n",
    "for i in range(3):\n",
    "    Lrot = tm._rotate_fourth_order(A, Lrot)\n",
    "tm.print_n_by_n(Lrot)\n",
    "np.testing.assert_almost_equal(L, Lrot)"
   ]
  },
  {
   "cell_type": "code",
   "execution_count": 196,
   "metadata": {
    "collapsed": false
   },
   "outputs": [
    {
     "name": "stdout",
     "output_type": "stream",
     "text": [
      "100000 loops, best of 3: 17.6 µs per loop\n"
     ]
    }
   ],
   "source": [
    "%timeit tm.rotate_stiffness(A, L)"
   ]
  },
  {
   "cell_type": "code",
   "execution_count": 197,
   "metadata": {
    "collapsed": false
   },
   "outputs": [
    {
     "name": "stdout",
     "output_type": "stream",
     "text": [
      "10000 loops, best of 3: 28 µs per loop\n"
     ]
    }
   ],
   "source": [
    "%timeit tm._rotate_fourth_order(A, L)"
   ]
  },
  {
   "cell_type": "code",
   "execution_count": null,
   "metadata": {
    "collapsed": true
   },
   "outputs": [],
   "source": []
  }
 ],
 "metadata": {
  "kernelspec": {
   "display_name": "Python 2",
   "language": "python",
   "name": "python2"
  },
  "language_info": {
   "codemirror_mode": {
    "name": "ipython",
    "version": 2
   },
   "file_extension": ".py",
   "mimetype": "text/x-python",
   "name": "python",
   "nbconvert_exporter": "python",
   "pygments_lexer": "ipython2",
   "version": "2.7.15"
  }
 },
 "nbformat": 4,
 "nbformat_minor": 2
}
